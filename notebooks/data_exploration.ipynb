{
 "cells": [
  {
   "cell_type": "code",
   "execution_count": null,
   "metadata": {},
   "outputs": [],
   "source": [
    "import pandas as pd\n",
    "import matplotlib.pyplot as plt\n",
    "import seaborn as sns\n",
    "\n",
    "covid_data = pd.read_csv('../data/raw/covid_data.csv')\n",
    "pfizer_data = pd.read_csv('../data/raw/pfizer_stock.csv', header=2)\n",
    "\n",
    "pfizer_data.columns = ['Date', 'Price', 'Close', 'High', 'Low', 'Volume']\n",
    "pfizer_data['Date'] = pd.to_datetime(pfizer_data['Date'])\n",
    "pfizer_data.set_index('Date', inplace=True)\n",
    "\n",
    "\n",
    "print(\"Pfizer stock data preview:\")\n",
    "print(pfizer_data.head())\n",
    "\n",
    "print(\"covid data preview:\")\n",
    "print(covid_data.head())\n",
    "\n",
    "print(\"Pfizer stock data description:\")\n",
    "print(pfizer_data.describe())\n",
    "\n",
    "print(\"Covid data description:\")\n",
    "print(covid_data.describe())\n",
    "\n",
    "plt.figure(figsize=(10, 6))\n",
    "plt.plot(pfizer_data.index, pfizer_data['Close'], label='Pfizer Stock Price')\n",
    "plt.xlabel('Date')\n",
    "plt.ylabel('Stock Price (USD)')\n",
    "plt.title('Pfizer Stock Price Over Time')\n",
    "plt.legend()\n",
    "plt.xticks(rotation=45)\n",
    "plt.show()\n",
    "\n",
    "plt.figure(figsize=(10, 6))\n",
    "covid_data_grouped = covid_data.groupby('date')['total_cases'].sum().reset_index()\n",
    "plt.plot(covid_data_grouped['date'], covid_data_grouped['total_cases'], label='Total COVID-19 Cases')\n",
    "plt.xlabel('Date')\n",
    "plt.ylabel('Total Cases')\n",
    "plt.title('Total Global COVID-19 Cases Over Time')\n",
    "plt.xticks(rotation=45)\n",
    "plt.legend()\n",
    "plt.show()\n"
   ]
  }
 ],
 "metadata": {
  "kernelspec": {
   "display_name": "Python 3 (ipykernel)",
   "language": "python",
   "name": "python3"
  },
  "language_info": {
   "codemirror_mode": {
    "name": "ipython",
    "version": 3
   },
   "file_extension": ".py",
   "mimetype": "text/x-python",
   "name": "python",
   "nbconvert_exporter": "python",
   "pygments_lexer": "ipython3",
   "version": "3.12.4"
  }
 },
 "nbformat": 4,
 "nbformat_minor": 4
}
